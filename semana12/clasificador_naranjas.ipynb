{
  "cells": [
    {
      "cell_type": "markdown",
      "metadata": {
        "id": "JHqOqU4VV9Cd"
      },
      "source": [
        "#**Librerías**"
      ]
    },
    {
      "cell_type": "code",
      "execution_count": 5,
      "metadata": {
        "id": "RPtfy4WJWB6A"
      },
      "outputs": [],
      "source": [
        "import os\n",
        "from sklearn.model_selection import train_test_split\n",
        "from tensorflow.keras.preprocessing.image import ImageDataGenerator"
      ]
    },
    {
      "cell_type": "code",
      "execution_count": 6,
      "metadata": {
        "id": "cjx7MWIDZfEV"
      },
      "outputs": [],
      "source": [
        "from sklearn.model_selection import train_test_split\n",
        "import numpy as np\n",
        "import shutil\n",
        "\n",
        "# Directorios originales\n",
        "data_dir = \"/content/drive/MyDrive/Visión por computador/semana12/\"\n",
        "san_dir = os.path.join(data_dir, '/content/drive/MyDrive/Visión por computador/semana12/good_quality/')\n",
        "enf_dir = os.path.join(data_dir, '/content/drive/MyDrive/Visión por computador/semana12/bad_quality/')\n",
        "\n",
        "# Obtener listas de imágenes\n",
        "san_imagenes = [os.path.join(san_dir, img) for img in os.listdir(san_dir)]\n",
        "enf_imagenes = [os.path.join(enf_dir, img) for img in os.listdir(enf_dir)]\n",
        "\n",
        "# Crear etiquetas (0 para sanas, 1 para enfermas)\n",
        "san_etiquetas = [0] * len(san_imagenes)\n",
        "enf_etiquetas = [1] * len(enf_imagenes)\n",
        "\n",
        "# Unir las listas\n",
        "imagenes = np.array(san_imagenes + enf_imagenes)\n",
        "etiquetas = np.array(san_etiquetas + enf_etiquetas)\n",
        "\n",
        "# Dividir los datos en entrenamiento, validación y prueba (70% - 15% - 15%)\n",
        "X_train, X_temp, y_train, y_temp = train_test_split(imagenes, etiquetas, test_size=0.3, stratify=etiquetas)\n",
        "X_val, X_test, y_val, y_test = train_test_split(X_temp, y_temp, test_size=0.5, stratify=y_temp)\n",
        "\n",
        "# Crear carpetas de salida para las imágenes divididas\n",
        "output_dir = \"/content/drive/MyDrive/Visión por computador/images/\"\n",
        "os.makedirs(output_dir, exist_ok=True)\n",
        "for folder in ['train', 'val', 'test']:\n",
        "    os.makedirs(os.path.join(output_dir, folder, 'naranjas_sanas'), exist_ok=True)\n",
        "    os.makedirs(os.path.join(output_dir, folder, 'naranjas_enfermas'), exist_ok=True)\n",
        "\n",
        "# Función para copiar las imágenes a las carpetas respectivas\n",
        "def copiar_imagenes(image_list, labels, set_name):\n",
        "    for img_path, label in zip(image_list, labels):\n",
        "        if label == 0:\n",
        "            shutil.copy(img_path, os.path.join(output_dir, set_name, 'naranjas_sanas'))\n",
        "        else:\n",
        "            shutil.copy(img_path, os.path.join(output_dir, set_name, 'naranjas_enfermas'))\n",
        "\n",
        "# Copiar las imágenes a los respectivos conjuntos\n",
        "copiar_imagenes(X_train, y_train, 'train')\n",
        "copiar_imagenes(X_val, y_val, 'val')\n",
        "copiar_imagenes(X_test, y_test, 'test')\n"
      ]
    },
    {
      "cell_type": "markdown",
      "metadata": {
        "id": "0ME-n2vQV5N9"
      },
      "source": [
        "#**División de datos**"
      ]
    },
    {
      "cell_type": "code",
      "execution_count": 7,
      "metadata": {
        "colab": {
          "base_uri": "https://localhost:8080/"
        },
        "id": "iZayiqWkWiWY",
        "outputId": "ea9697e6-c865-41f1-9ec5-ca0fcb1ea11d"
      },
      "outputs": [
        {
          "name": "stdout",
          "output_type": "stream",
          "text": [
            "Found 1481 images belonging to 2 classes.\n",
            "Found 317 images belonging to 2 classes.\n",
            "Found 318 images belonging to 2 classes.\n"
          ]
        }
      ],
      "source": [
        "from tensorflow.keras.preprocessing.image import ImageDataGenerator\n",
        "\n",
        "# Creación de los generadores de imágenes\n",
        "datagen = ImageDataGenerator(rescale=1./255)\n",
        "\n",
        "# Generadores para entrenamiento, validación y prueba\n",
        "train_gen = datagen.flow_from_directory('/content/drive/MyDrive/Visión por computador/images/train/', target_size=(128, 128), batch_size=32, class_mode='binary')\n",
        "val_gen = datagen.flow_from_directory('/content/drive/MyDrive/Visión por computador/images/val/', target_size=(128, 128), batch_size=32, class_mode='binary')\n",
        "test_gen = datagen.flow_from_directory('/content/drive/MyDrive/Visión por computador/images/test/', target_size=(128, 128), batch_size=32, class_mode='binary')\n"
      ]
    },
    {
      "cell_type": "markdown",
      "metadata": {
        "id": "r8WY9fWQaZ_h"
      },
      "source": [
        "#**Optimización de Hiperparámetros con Scikit-optimize**"
      ]
    },
    {
      "cell_type": "code",
      "execution_count": 8,
      "metadata": {
        "colab": {
          "base_uri": "https://localhost:8080/"
        },
        "id": "tmZK8ppUb2nn",
        "outputId": "921d980e-b17a-42c6-b036-e0b9db5beea2"
      },
      "outputs": [
        {
          "name": "stdout",
          "output_type": "stream",
          "text": [
            "Collecting scikit-optimize\n",
            "  Downloading scikit_optimize-0.10.2-py2.py3-none-any.whl.metadata (9.7 kB)\n",
            "Requirement already satisfied: joblib>=0.11 in /usr/local/lib/python3.10/dist-packages (from scikit-optimize) (1.4.2)\n",
            "Collecting pyaml>=16.9 (from scikit-optimize)\n",
            "  Downloading pyaml-24.9.0-py3-none-any.whl.metadata (11 kB)\n",
            "Requirement already satisfied: numpy>=1.20.3 in /usr/local/lib/python3.10/dist-packages (from scikit-optimize) (1.26.4)\n",
            "Requirement already satisfied: scipy>=1.1.0 in /usr/local/lib/python3.10/dist-packages (from scikit-optimize) (1.13.1)\n",
            "Requirement already satisfied: scikit-learn>=1.0.0 in /usr/local/lib/python3.10/dist-packages (from scikit-optimize) (1.5.2)\n",
            "Requirement already satisfied: packaging>=21.3 in /usr/local/lib/python3.10/dist-packages (from scikit-optimize) (24.1)\n",
            "Requirement already satisfied: PyYAML in /usr/local/lib/python3.10/dist-packages (from pyaml>=16.9->scikit-optimize) (6.0.2)\n",
            "Requirement already satisfied: threadpoolctl>=3.1.0 in /usr/local/lib/python3.10/dist-packages (from scikit-learn>=1.0.0->scikit-optimize) (3.5.0)\n",
            "Downloading scikit_optimize-0.10.2-py2.py3-none-any.whl (107 kB)\n",
            "\u001b[2K   \u001b[90m━━━━━━━━━━━━━━━━━━━━━━━━━━━━━━━━━━━━━━━━\u001b[0m \u001b[32m107.8/107.8 kB\u001b[0m \u001b[31m4.9 MB/s\u001b[0m eta \u001b[36m0:00:00\u001b[0m\n",
            "\u001b[?25hDownloading pyaml-24.9.0-py3-none-any.whl (24 kB)\n",
            "Installing collected packages: pyaml, scikit-optimize\n",
            "Successfully installed pyaml-24.9.0 scikit-optimize-0.10.2\n"
          ]
        }
      ],
      "source": [
        "pip install scikit-optimize"
      ]
    },
    {
      "cell_type": "code",
      "execution_count": 9,
      "metadata": {
        "id": "DpuVJsFCcWlx"
      },
      "outputs": [],
      "source": [
        "from tensorflow.keras.models import Sequential\n",
        "from tensorflow.keras.layers import Conv2D, MaxPooling2D, Flatten, Dense, Dropout\n",
        "from tensorflow.keras.optimizers import Adam"
      ]
    },
    {
      "cell_type": "code",
      "execution_count": 10,
      "metadata": {
        "id": "SlW-FMvwaKuz"
      },
      "outputs": [],
      "source": [
        "def crear_modelo(learning_rate, num_filters):\n",
        "    model = Sequential()\n",
        "\n",
        "    # Primera capa convolucional\n",
        "    model.add(Conv2D(num_filters, (3, 3), activation='relu', input_shape=(128, 128, 3)))\n",
        "    model.add(MaxPooling2D(pool_size=(2, 2)))\n",
        "\n",
        "    # Segunda capa convolucional\n",
        "    model.add(Conv2D(num_filters * 2, (3, 3), activation='relu'))\n",
        "    model.add(MaxPooling2D(pool_size=(2, 2)))\n",
        "\n",
        "    # Capa aplanada\n",
        "    model.add(Flatten())\n",
        "\n",
        "    # Capa densa completamente conectada\n",
        "    model.add(Dense(64, activation='relu'))\n",
        "\n",
        "    # Capa de salida\n",
        "    model.add(Dense(1, activation='sigmoid'))\n",
        "\n",
        "    # Compilar el modelo\n",
        "    optimizer = Adam(learning_rate=learning_rate)\n",
        "    model.compile(optimizer=optimizer, loss='binary_crossentropy', metrics=['accuracy'])\n",
        "\n",
        "    return model"
      ]
    },
    {
      "cell_type": "code",
      "execution_count": 11,
      "metadata": {
        "colab": {
          "base_uri": "https://localhost:8080/"
        },
        "id": "8KXatFMEcpdv",
        "outputId": "e0d421d1-7e18-4fce-f036-7c1f8e235c54"
      },
      "outputs": [
        {
          "name": "stderr",
          "output_type": "stream",
          "text": [
            "/usr/local/lib/python3.10/dist-packages/keras/src/layers/convolutional/base_conv.py:107: UserWarning: Do not pass an `input_shape`/`input_dim` argument to a layer. When using Sequential models, prefer using an `Input(shape)` object as the first layer in the model instead.\n",
            "  super().__init__(activity_regularizer=activity_regularizer, **kwargs)\n",
            "/usr/local/lib/python3.10/dist-packages/keras/src/trainers/data_adapters/py_dataset_adapter.py:121: UserWarning: Your `PyDataset` class should call `super().__init__(**kwargs)` in its constructor. `**kwargs` can include `workers`, `use_multiprocessing`, `max_queue_size`. Do not pass these arguments to `fit()`, as they will be ignored.\n",
            "  self._warn_if_super_not_called()\n",
            "/usr/local/lib/python3.10/dist-packages/keras/src/layers/convolutional/base_conv.py:107: UserWarning: Do not pass an `input_shape`/`input_dim` argument to a layer. When using Sequential models, prefer using an `Input(shape)` object as the first layer in the model instead.\n",
            "  super().__init__(activity_regularizer=activity_regularizer, **kwargs)\n",
            "/usr/local/lib/python3.10/dist-packages/keras/src/layers/convolutional/base_conv.py:107: UserWarning: Do not pass an `input_shape`/`input_dim` argument to a layer. When using Sequential models, prefer using an `Input(shape)` object as the first layer in the model instead.\n",
            "  super().__init__(activity_regularizer=activity_regularizer, **kwargs)\n",
            "/usr/local/lib/python3.10/dist-packages/keras/src/layers/convolutional/base_conv.py:107: UserWarning: Do not pass an `input_shape`/`input_dim` argument to a layer. When using Sequential models, prefer using an `Input(shape)` object as the first layer in the model instead.\n",
            "  super().__init__(activity_regularizer=activity_regularizer, **kwargs)\n",
            "/usr/local/lib/python3.10/dist-packages/keras/src/layers/convolutional/base_conv.py:107: UserWarning: Do not pass an `input_shape`/`input_dim` argument to a layer. When using Sequential models, prefer using an `Input(shape)` object as the first layer in the model instead.\n",
            "  super().__init__(activity_regularizer=activity_regularizer, **kwargs)\n",
            "/usr/local/lib/python3.10/dist-packages/keras/src/layers/convolutional/base_conv.py:107: UserWarning: Do not pass an `input_shape`/`input_dim` argument to a layer. When using Sequential models, prefer using an `Input(shape)` object as the first layer in the model instead.\n",
            "  super().__init__(activity_regularizer=activity_regularizer, **kwargs)\n",
            "/usr/local/lib/python3.10/dist-packages/keras/src/layers/convolutional/base_conv.py:107: UserWarning: Do not pass an `input_shape`/`input_dim` argument to a layer. When using Sequential models, prefer using an `Input(shape)` object as the first layer in the model instead.\n",
            "  super().__init__(activity_regularizer=activity_regularizer, **kwargs)\n",
            "/usr/local/lib/python3.10/dist-packages/keras/src/layers/convolutional/base_conv.py:107: UserWarning: Do not pass an `input_shape`/`input_dim` argument to a layer. When using Sequential models, prefer using an `Input(shape)` object as the first layer in the model instead.\n",
            "  super().__init__(activity_regularizer=activity_regularizer, **kwargs)\n",
            "/usr/local/lib/python3.10/dist-packages/keras/src/layers/convolutional/base_conv.py:107: UserWarning: Do not pass an `input_shape`/`input_dim` argument to a layer. When using Sequential models, prefer using an `Input(shape)` object as the first layer in the model instead.\n",
            "  super().__init__(activity_regularizer=activity_regularizer, **kwargs)\n",
            "/usr/local/lib/python3.10/dist-packages/keras/src/layers/convolutional/base_conv.py:107: UserWarning: Do not pass an `input_shape`/`input_dim` argument to a layer. When using Sequential models, prefer using an `Input(shape)` object as the first layer in the model instead.\n",
            "  super().__init__(activity_regularizer=activity_regularizer, **kwargs)\n",
            "/usr/local/lib/python3.10/dist-packages/keras/src/layers/convolutional/base_conv.py:107: UserWarning: Do not pass an `input_shape`/`input_dim` argument to a layer. When using Sequential models, prefer using an `Input(shape)` object as the first layer in the model instead.\n",
            "  super().__init__(activity_regularizer=activity_regularizer, **kwargs)\n"
          ]
        },
        {
          "name": "stdout",
          "output_type": "stream",
          "text": [
            "Mejores hiperparámetros encontrados:\n",
            "Tasa de aprendizaje:  0.0001682541077634012\n",
            "Número de filtros:  115\n"
          ]
        }
      ],
      "source": [
        "from skopt import gp_minimize\n",
        "from skopt.space import Real, Integer\n",
        "from skopt.utils import use_named_args\n",
        "\n",
        "# Espacio de búsqueda de hiperparámetros\n",
        "dim_learning_rate = Real(low=1e-6, high=1e-1, prior='log-uniform', name='learning_rate')\n",
        "dim_num_filters = Integer(low=16, high=128, name='num_filters')\n",
        "\n",
        "dimensions = [dim_learning_rate, dim_num_filters]\n",
        "\n",
        "# Definir la función a optimizar\n",
        "@use_named_args(dimensions=dimensions)\n",
        "def fitness(learning_rate, num_filters):\n",
        "    modelo = crear_modelo(learning_rate=learning_rate, num_filters=num_filters)\n",
        "\n",
        "    history = modelo.fit(train_gen, validation_data=val_gen, epochs=10, verbose=0)\n",
        "    accuracy = history.history['val_accuracy'][-1]  # Tomar la precisión de validación final\n",
        "\n",
        "    return -accuracy  # Minimizar la pérdida (por eso el signo negativo)\n",
        "\n",
        "# Ejecutar la optimización bayesiana\n",
        "resultado = gp_minimize(func=fitness, dimensions=dimensions, n_calls=20, random_state=42)\n",
        "\n",
        "print(\"Mejores hiperparámetros encontrados:\")\n",
        "print(\"Tasa de aprendizaje: \", resultado.x[0])\n",
        "print(\"Número de filtros: \", resultado.x[1])\n"
      ]
    },
    {
      "cell_type": "code",
      "execution_count": 12,
      "metadata": {
        "colab": {
          "base_uri": "https://localhost:8080/"
        },
        "id": "rnJu4bZaeWaD",
        "outputId": "7b4e19bc-4064-47b2-f8d3-899a74c50964"
      },
      "outputs": [
        {
          "name": "stderr",
          "output_type": "stream",
          "text": [
            "/usr/local/lib/python3.10/dist-packages/keras/src/layers/convolutional/base_conv.py:107: UserWarning: Do not pass an `input_shape`/`input_dim` argument to a layer. When using Sequential models, prefer using an `Input(shape)` object as the first layer in the model instead.\n",
            "  super().__init__(activity_regularizer=activity_regularizer, **kwargs)\n"
          ]
        },
        {
          "name": "stdout",
          "output_type": "stream",
          "text": [
            "Epoch 1/50\n",
            "\u001b[1m47/47\u001b[0m \u001b[32m━━━━━━━━━━━━━━━━━━━━\u001b[0m\u001b[37m\u001b[0m \u001b[1m19s\u001b[0m 312ms/step - accuracy: 0.6266 - loss: 0.6326 - val_accuracy: 0.8927 - val_loss: 0.2639\n",
            "Epoch 2/50\n",
            "\u001b[1m47/47\u001b[0m \u001b[32m━━━━━━━━━━━━━━━━━━━━\u001b[0m\u001b[37m\u001b[0m \u001b[1m12s\u001b[0m 238ms/step - accuracy: 0.9248 - loss: 0.2203 - val_accuracy: 0.9085 - val_loss: 0.1794\n",
            "Epoch 3/50\n",
            "\u001b[1m47/47\u001b[0m \u001b[32m━━━━━━━━━━━━━━━━━━━━\u001b[0m\u001b[37m\u001b[0m \u001b[1m16s\u001b[0m 160ms/step - accuracy: 0.9617 - loss: 0.1040 - val_accuracy: 0.9243 - val_loss: 0.1460\n",
            "Epoch 4/50\n",
            "\u001b[1m47/47\u001b[0m \u001b[32m━━━━━━━━━━━━━━━━━━━━\u001b[0m\u001b[37m\u001b[0m \u001b[1m10s\u001b[0m 153ms/step - accuracy: 0.9471 - loss: 0.1388 - val_accuracy: 0.9590 - val_loss: 0.1273\n",
            "Epoch 5/50\n",
            "\u001b[1m47/47\u001b[0m \u001b[32m━━━━━━━━━━━━━━━━━━━━\u001b[0m\u001b[37m\u001b[0m \u001b[1m10s\u001b[0m 141ms/step - accuracy: 0.9737 - loss: 0.0752 - val_accuracy: 0.9653 - val_loss: 0.0765\n",
            "Epoch 6/50\n",
            "\u001b[1m47/47\u001b[0m \u001b[32m━━━━━━━━━━━━━━━━━━━━\u001b[0m\u001b[37m\u001b[0m \u001b[1m9s\u001b[0m 164ms/step - accuracy: 0.9767 - loss: 0.0640 - val_accuracy: 0.9653 - val_loss: 0.0723\n",
            "Epoch 7/50\n",
            "\u001b[1m47/47\u001b[0m \u001b[32m━━━━━━━━━━━━━━━━━━━━\u001b[0m\u001b[37m\u001b[0m \u001b[1m11s\u001b[0m 174ms/step - accuracy: 0.9793 - loss: 0.0643 - val_accuracy: 0.9590 - val_loss: 0.0863\n",
            "Epoch 8/50\n",
            "\u001b[1m47/47\u001b[0m \u001b[32m━━━━━━━━━━━━━━━━━━━━\u001b[0m\u001b[37m\u001b[0m \u001b[1m9s\u001b[0m 147ms/step - accuracy: 0.9871 - loss: 0.0432 - val_accuracy: 0.9685 - val_loss: 0.0766\n",
            "Epoch 9/50\n",
            "\u001b[1m47/47\u001b[0m \u001b[32m━━━━━━━━━━━━━━━━━━━━\u001b[0m\u001b[37m\u001b[0m \u001b[1m10s\u001b[0m 143ms/step - accuracy: 0.9847 - loss: 0.0486 - val_accuracy: 0.8833 - val_loss: 0.3418\n",
            "Epoch 10/50\n",
            "\u001b[1m47/47\u001b[0m \u001b[32m━━━━━━━━━━━━━━━━━━━━\u001b[0m\u001b[37m\u001b[0m \u001b[1m10s\u001b[0m 191ms/step - accuracy: 0.9476 - loss: 0.1284 - val_accuracy: 0.9685 - val_loss: 0.0602\n",
            "Epoch 11/50\n",
            "\u001b[1m47/47\u001b[0m \u001b[32m━━━━━━━━━━━━━━━━━━━━\u001b[0m\u001b[37m\u001b[0m \u001b[1m10s\u001b[0m 176ms/step - accuracy: 0.9823 - loss: 0.0500 - val_accuracy: 0.9685 - val_loss: 0.0732\n",
            "Epoch 12/50\n",
            "\u001b[1m47/47\u001b[0m \u001b[32m━━━━━━━━━━━━━━━━━━━━\u001b[0m\u001b[37m\u001b[0m \u001b[1m8s\u001b[0m 146ms/step - accuracy: 0.9931 - loss: 0.0306 - val_accuracy: 0.9590 - val_loss: 0.0725\n",
            "Epoch 13/50\n",
            "\u001b[1m47/47\u001b[0m \u001b[32m━━━━━━━━━━━━━━━━━━━━\u001b[0m\u001b[37m\u001b[0m \u001b[1m11s\u001b[0m 163ms/step - accuracy: 0.9866 - loss: 0.0254 - val_accuracy: 0.9748 - val_loss: 0.0612\n",
            "Epoch 14/50\n",
            "\u001b[1m47/47\u001b[0m \u001b[32m━━━━━━━━━━━━━━━━━━━━\u001b[0m\u001b[37m\u001b[0m \u001b[1m10s\u001b[0m 158ms/step - accuracy: 0.9920 - loss: 0.0266 - val_accuracy: 0.9653 - val_loss: 0.0635\n",
            "Epoch 15/50\n",
            "\u001b[1m47/47\u001b[0m \u001b[32m━━━━━━━━━━━━━━━━━━━━\u001b[0m\u001b[37m\u001b[0m \u001b[1m9s\u001b[0m 144ms/step - accuracy: 0.9926 - loss: 0.0219 - val_accuracy: 0.9558 - val_loss: 0.0881\n",
            "Epoch 16/50\n",
            "\u001b[1m47/47\u001b[0m \u001b[32m━━━━━━━━━━━━━━━━━━━━\u001b[0m\u001b[37m\u001b[0m \u001b[1m8s\u001b[0m 158ms/step - accuracy: 0.9888 - loss: 0.0406 - val_accuracy: 0.9621 - val_loss: 0.0623\n",
            "Epoch 17/50\n",
            "\u001b[1m47/47\u001b[0m \u001b[32m━━━━━━━━━━━━━━━━━━━━\u001b[0m\u001b[37m\u001b[0m \u001b[1m8s\u001b[0m 148ms/step - accuracy: 0.9863 - loss: 0.0249 - val_accuracy: 0.9685 - val_loss: 0.0596\n",
            "Epoch 18/50\n",
            "\u001b[1m47/47\u001b[0m \u001b[32m━━━━━━━━━━━━━━━━━━━━\u001b[0m\u001b[37m\u001b[0m \u001b[1m8s\u001b[0m 154ms/step - accuracy: 0.9985 - loss: 0.0095 - val_accuracy: 0.9685 - val_loss: 0.0595\n",
            "Epoch 19/50\n",
            "\u001b[1m47/47\u001b[0m \u001b[32m━━━━━━━━━━━━━━━━━━━━\u001b[0m\u001b[37m\u001b[0m \u001b[1m10s\u001b[0m 161ms/step - accuracy: 0.9973 - loss: 0.0096 - val_accuracy: 0.9621 - val_loss: 0.1073\n",
            "Epoch 20/50\n",
            "\u001b[1m47/47\u001b[0m \u001b[32m━━━━━━━━━━━━━━━━━━━━\u001b[0m\u001b[37m\u001b[0m \u001b[1m10s\u001b[0m 152ms/step - accuracy: 0.9897 - loss: 0.0192 - val_accuracy: 0.9842 - val_loss: 0.0447\n",
            "Epoch 21/50\n",
            "\u001b[1m47/47\u001b[0m \u001b[32m━━━━━━━━━━━━━━━━━━━━\u001b[0m\u001b[37m\u001b[0m \u001b[1m10s\u001b[0m 145ms/step - accuracy: 0.9999 - loss: 0.0043 - val_accuracy: 0.9779 - val_loss: 0.0463\n",
            "Epoch 22/50\n",
            "\u001b[1m47/47\u001b[0m \u001b[32m━━━━━━━━━━━━━━━━━━━━\u001b[0m\u001b[37m\u001b[0m \u001b[1m8s\u001b[0m 162ms/step - accuracy: 0.9996 - loss: 0.0042 - val_accuracy: 0.9842 - val_loss: 0.0440\n",
            "Epoch 23/50\n",
            "\u001b[1m47/47\u001b[0m \u001b[32m━━━━━━━━━━━━━━━━━━━━\u001b[0m\u001b[37m\u001b[0m \u001b[1m8s\u001b[0m 144ms/step - accuracy: 0.9997 - loss: 0.0041 - val_accuracy: 0.9779 - val_loss: 0.0506\n",
            "Epoch 24/50\n",
            "\u001b[1m47/47\u001b[0m \u001b[32m━━━━━━━━━━━━━━━━━━━━\u001b[0m\u001b[37m\u001b[0m \u001b[1m11s\u001b[0m 154ms/step - accuracy: 0.9999 - loss: 0.0028 - val_accuracy: 0.9811 - val_loss: 0.0462\n",
            "Epoch 25/50\n",
            "\u001b[1m47/47\u001b[0m \u001b[32m━━━━━━━━━━━━━━━━━━━━\u001b[0m\u001b[37m\u001b[0m \u001b[1m10s\u001b[0m 154ms/step - accuracy: 1.0000 - loss: 0.0055 - val_accuracy: 0.9748 - val_loss: 0.0610\n",
            "Epoch 26/50\n",
            "\u001b[1m47/47\u001b[0m \u001b[32m━━━━━━━━━━━━━━━━━━━━\u001b[0m\u001b[37m\u001b[0m \u001b[1m9s\u001b[0m 174ms/step - accuracy: 0.9992 - loss: 0.0029 - val_accuracy: 0.9748 - val_loss: 0.0616\n",
            "Epoch 27/50\n",
            "\u001b[1m47/47\u001b[0m \u001b[32m━━━━━━━━━━━━━━━━━━━━\u001b[0m\u001b[37m\u001b[0m \u001b[1m9s\u001b[0m 143ms/step - accuracy: 1.0000 - loss: 0.0018 - val_accuracy: 0.9811 - val_loss: 0.0466\n",
            "Epoch 28/50\n",
            "\u001b[1m47/47\u001b[0m \u001b[32m━━━━━━━━━━━━━━━━━━━━\u001b[0m\u001b[37m\u001b[0m \u001b[1m8s\u001b[0m 161ms/step - accuracy: 1.0000 - loss: 0.0017 - val_accuracy: 0.9811 - val_loss: 0.0584\n",
            "Epoch 29/50\n",
            "\u001b[1m47/47\u001b[0m \u001b[32m━━━━━━━━━━━━━━━━━━━━\u001b[0m\u001b[37m\u001b[0m \u001b[1m9s\u001b[0m 173ms/step - accuracy: 1.0000 - loss: 0.0014 - val_accuracy: 0.9716 - val_loss: 0.0634\n",
            "Epoch 30/50\n",
            "\u001b[1m47/47\u001b[0m \u001b[32m━━━━━━━━━━━━━━━━━━━━\u001b[0m\u001b[37m\u001b[0m \u001b[1m9s\u001b[0m 142ms/step - accuracy: 1.0000 - loss: 0.0010 - val_accuracy: 0.9748 - val_loss: 0.0580\n",
            "Epoch 31/50\n",
            "\u001b[1m47/47\u001b[0m \u001b[32m━━━━━━━━━━━━━━━━━━━━\u001b[0m\u001b[37m\u001b[0m \u001b[1m8s\u001b[0m 160ms/step - accuracy: 1.0000 - loss: 7.9231e-04 - val_accuracy: 0.9842 - val_loss: 0.0499\n",
            "Epoch 32/50\n",
            "\u001b[1m47/47\u001b[0m \u001b[32m━━━━━━━━━━━━━━━━━━━━\u001b[0m\u001b[37m\u001b[0m \u001b[1m8s\u001b[0m 142ms/step - accuracy: 1.0000 - loss: 0.0012 - val_accuracy: 0.9716 - val_loss: 0.0731\n",
            "Epoch 33/50\n",
            "\u001b[1m47/47\u001b[0m \u001b[32m━━━━━━━━━━━━━━━━━━━━\u001b[0m\u001b[37m\u001b[0m \u001b[1m8s\u001b[0m 157ms/step - accuracy: 1.0000 - loss: 0.0011 - val_accuracy: 0.9748 - val_loss: 0.0674\n",
            "Epoch 34/50\n",
            "\u001b[1m47/47\u001b[0m \u001b[32m━━━━━━━━━━━━━━━━━━━━\u001b[0m\u001b[37m\u001b[0m \u001b[1m10s\u001b[0m 159ms/step - accuracy: 1.0000 - loss: 8.8023e-04 - val_accuracy: 0.9748 - val_loss: 0.0662\n",
            "Epoch 35/50\n",
            "\u001b[1m47/47\u001b[0m \u001b[32m━━━━━━━━━━━━━━━━━━━━\u001b[0m\u001b[37m\u001b[0m \u001b[1m8s\u001b[0m 142ms/step - accuracy: 1.0000 - loss: 8.3385e-04 - val_accuracy: 0.9748 - val_loss: 0.0673\n",
            "Epoch 36/50\n",
            "\u001b[1m47/47\u001b[0m \u001b[32m━━━━━━━━━━━━━━━━━━━━\u001b[0m\u001b[37m\u001b[0m \u001b[1m9s\u001b[0m 164ms/step - accuracy: 1.0000 - loss: 7.2710e-04 - val_accuracy: 0.9779 - val_loss: 0.0563\n",
            "Epoch 37/50\n",
            "\u001b[1m47/47\u001b[0m \u001b[32m━━━━━━━━━━━━━━━━━━━━\u001b[0m\u001b[37m\u001b[0m \u001b[1m11s\u001b[0m 179ms/step - accuracy: 1.0000 - loss: 5.9757e-04 - val_accuracy: 0.9811 - val_loss: 0.0476\n",
            "Epoch 38/50\n",
            "\u001b[1m47/47\u001b[0m \u001b[32m━━━━━━━━━━━━━━━━━━━━\u001b[0m\u001b[37m\u001b[0m \u001b[1m9s\u001b[0m 145ms/step - accuracy: 1.0000 - loss: 8.0801e-04 - val_accuracy: 0.9748 - val_loss: 0.0593\n",
            "Epoch 39/50\n",
            "\u001b[1m47/47\u001b[0m \u001b[32m━━━━━━━━━━━━━━━━━━━━\u001b[0m\u001b[37m\u001b[0m \u001b[1m9s\u001b[0m 163ms/step - accuracy: 1.0000 - loss: 4.5298e-04 - val_accuracy: 0.9811 - val_loss: 0.0511\n",
            "Epoch 40/50\n",
            "\u001b[1m47/47\u001b[0m \u001b[32m━━━━━━━━━━━━━━━━━━━━\u001b[0m\u001b[37m\u001b[0m \u001b[1m8s\u001b[0m 144ms/step - accuracy: 1.0000 - loss: 4.7096e-04 - val_accuracy: 0.9748 - val_loss: 0.0676\n",
            "Epoch 41/50\n",
            "\u001b[1m47/47\u001b[0m \u001b[32m━━━━━━━━━━━━━━━━━━━━\u001b[0m\u001b[37m\u001b[0m \u001b[1m8s\u001b[0m 159ms/step - accuracy: 1.0000 - loss: 4.3032e-04 - val_accuracy: 0.9748 - val_loss: 0.0621\n",
            "Epoch 42/50\n",
            "\u001b[1m47/47\u001b[0m \u001b[32m━━━━━━━━━━━━━━━━━━━━\u001b[0m\u001b[37m\u001b[0m \u001b[1m9s\u001b[0m 177ms/step - accuracy: 1.0000 - loss: 4.2913e-04 - val_accuracy: 0.9779 - val_loss: 0.0546\n",
            "Epoch 43/50\n",
            "\u001b[1m47/47\u001b[0m \u001b[32m━━━━━━━━━━━━━━━━━━━━\u001b[0m\u001b[37m\u001b[0m \u001b[1m9s\u001b[0m 144ms/step - accuracy: 1.0000 - loss: 3.4005e-04 - val_accuracy: 0.9748 - val_loss: 0.0709\n",
            "Epoch 44/50\n",
            "\u001b[1m47/47\u001b[0m \u001b[32m━━━━━━━━━━━━━━━━━━━━\u001b[0m\u001b[37m\u001b[0m \u001b[1m10s\u001b[0m 148ms/step - accuracy: 1.0000 - loss: 4.0706e-04 - val_accuracy: 0.9748 - val_loss: 0.0726\n",
            "Epoch 45/50\n",
            "\u001b[1m47/47\u001b[0m \u001b[32m━━━━━━━━━━━━━━━━━━━━\u001b[0m\u001b[37m\u001b[0m \u001b[1m8s\u001b[0m 157ms/step - accuracy: 1.0000 - loss: 2.8657e-04 - val_accuracy: 0.9811 - val_loss: 0.0534\n",
            "Epoch 46/50\n",
            "\u001b[1m47/47\u001b[0m \u001b[32m━━━━━━━━━━━━━━━━━━━━\u001b[0m\u001b[37m\u001b[0m \u001b[1m8s\u001b[0m 142ms/step - accuracy: 1.0000 - loss: 3.6356e-04 - val_accuracy: 0.9748 - val_loss: 0.0769\n",
            "Epoch 47/50\n",
            "\u001b[1m47/47\u001b[0m \u001b[32m━━━━━━━━━━━━━━━━━━━━\u001b[0m\u001b[37m\u001b[0m \u001b[1m11s\u001b[0m 148ms/step - accuracy: 1.0000 - loss: 3.4293e-04 - val_accuracy: 0.9748 - val_loss: 0.0697\n",
            "Epoch 48/50\n",
            "\u001b[1m47/47\u001b[0m \u001b[32m━━━━━━━━━━━━━━━━━━━━\u001b[0m\u001b[37m\u001b[0m \u001b[1m8s\u001b[0m 159ms/step - accuracy: 1.0000 - loss: 2.4778e-04 - val_accuracy: 0.9748 - val_loss: 0.0712\n",
            "Epoch 49/50\n",
            "\u001b[1m47/47\u001b[0m \u001b[32m━━━━━━━━━━━━━━━━━━━━\u001b[0m\u001b[37m\u001b[0m \u001b[1m9s\u001b[0m 143ms/step - accuracy: 1.0000 - loss: 2.7866e-04 - val_accuracy: 0.9748 - val_loss: 0.0699\n",
            "Epoch 50/50\n",
            "\u001b[1m47/47\u001b[0m \u001b[32m━━━━━━━━━━━━━━━━━━━━\u001b[0m\u001b[37m\u001b[0m \u001b[1m8s\u001b[0m 160ms/step - accuracy: 1.0000 - loss: 2.1820e-04 - val_accuracy: 0.9748 - val_loss: 0.0783\n",
            "\u001b[1m 1/10\u001b[0m \u001b[32m━━\u001b[0m\u001b[37m━━━━━━━━━━━━━━━━━━\u001b[0m \u001b[1m1s\u001b[0m 144ms/step - accuracy: 0.9688 - loss: 0.2135"
          ]
        },
        {
          "name": "stderr",
          "output_type": "stream",
          "text": [
            "/usr/local/lib/python3.10/dist-packages/keras/src/trainers/data_adapters/py_dataset_adapter.py:121: UserWarning: Your `PyDataset` class should call `super().__init__(**kwargs)` in its constructor. `**kwargs` can include `workers`, `use_multiprocessing`, `max_queue_size`. Do not pass these arguments to `fit()`, as they will be ignored.\n",
            "  self._warn_if_super_not_called()\n"
          ]
        },
        {
          "name": "stdout",
          "output_type": "stream",
          "text": [
            "\u001b[1m10/10\u001b[0m \u001b[32m━━━━━━━━━━━━━━━━━━━━\u001b[0m\u001b[37m\u001b[0m \u001b[1m3s\u001b[0m 352ms/step - accuracy: 0.9836 - loss: 0.0717\n",
            "Pérdida en prueba: 0.041260913014411926, Precisión en prueba: 0.9842767119407654\n"
          ]
        }
      ],
      "source": [
        "# Obtener los mejores hiperparámetros\n",
        "best_learning_rate = resultado.x[0]\n",
        "best_num_filters = resultado.x[1]\n",
        "\n",
        "# Crear y entrenar el modelo final con los mejores hiperparámetros\n",
        "modelo_final = crear_modelo(learning_rate=best_learning_rate, num_filters=best_num_filters)\n",
        "\n",
        "# Entrenar el modelo con los datos de entrenamiento y validación completos\n",
        "history = modelo_final.fit(train_gen, validation_data=val_gen, epochs=50)\n",
        "\n",
        "# Evaluar el modelo en el conjunto de prueba\n",
        "test_loss, test_acc = modelo_final.evaluate(test_gen)\n",
        "print(f\"Pérdida en prueba: {test_loss}, Precisión en prueba: {test_acc}\")\n"
      ]
    },
    {
      "cell_type": "markdown",
      "metadata": {
        "id": "qYL24sBZajFH"
      },
      "source": [
        "#**Evaluación con métricas de desempeño**"
      ]
    },
    {
      "cell_type": "code",
      "execution_count": 13,
      "metadata": {
        "colab": {
          "base_uri": "https://localhost:8080/"
        },
        "id": "-rhU58AqaKxc",
        "outputId": "6d1bcce2-798f-4300-879e-8250feb9c60f"
      },
      "outputs": [
        {
          "name": "stdout",
          "output_type": "stream",
          "text": [
            "\u001b[1m10/10\u001b[0m \u001b[32m━━━━━━━━━━━━━━━━━━━━\u001b[0m\u001b[37m\u001b[0m \u001b[1m2s\u001b[0m 170ms/step\n",
            "Exactitud: 0.5188679245283019\n",
            "Precisión: 0.47953216374269003\n",
            "Sensibilidad: 0.5616438356164384\n",
            "Matriz de Confusión:\n",
            "[[83 89]\n",
            " [64 82]]\n"
          ]
        }
      ],
      "source": [
        "from sklearn.metrics import accuracy_score, precision_score, recall_score, confusion_matrix\n",
        "\n",
        "predicciones = modelo_final.predict(test_gen)  # Usar modelo_final\n",
        "predicciones_binarias = (predicciones > 0.5).astype(int)\n",
        "\n",
        "# Cálculo de métricas\n",
        "accuracy = accuracy_score(y_test, predicciones_binarias)\n",
        "precision = precision_score(y_test, predicciones_binarias)\n",
        "recall = recall_score(y_test, predicciones_binarias)\n",
        "matriz_confusion = confusion_matrix(y_test, predicciones_binarias)\n",
        "\n",
        "print(f\"Exactitud: {accuracy}\")\n",
        "print(f\"Precisión: {precision}\")\n",
        "print(f\"Sensibilidad: {recall}\")\n",
        "print(f\"Matriz de Confusión:\\n{matriz_confusion}\")"
      ]
    },
    {
      "cell_type": "code",
      "execution_count": 15,
      "metadata": {
        "colab": {
          "base_uri": "https://localhost:8080/",
          "height": 564
        },
        "id": "Jfin2pr2aK16",
        "outputId": "5ce87cfa-1656-45ab-91ba-2881f8f761a2"
      },
      "outputs": [
        {
          "data": {
            "image/png": "[encoded data removed]",
            "text/plain": [
              "<Figure size 800x600 with 1 Axes>"
            ]
          },
          "metadata": {},
          "output_type": "display_data"
        }
      ],
      "source": [
        "import matplotlib.pyplot as plt\n",
        "import seaborn as sns\n",
        "from sklearn.metrics import confusion_matrix\n",
        "\n",
        "plt.figure(figsize=(8, 6))\n",
        "sns.heatmap(matriz_confusion, annot=True, fmt='d', cmap='Blues', cbar=False)\n",
        "plt.xlabel('Predicción')\n",
        "plt.ylabel('Valor Real')\n",
        "plt.title('Matriz de Confusión')\n",
        "plt.show()"
      ]
    }
  ],
  "metadata": {
    "accelerator": "GPU",
    "colab": {
      "gpuType": "T4",
      "provenance": []
    },
    "kernelspec": {
      "display_name": "Python 3",
      "name": "python3"
    },
    "language_info": {
      "name": "python"
    }
  },
  "nbformat": 4,
  "nbformat_minor": 0
}
