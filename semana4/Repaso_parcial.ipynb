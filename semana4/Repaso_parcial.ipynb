{
  "nbformat": 4,
  "nbformat_minor": 0,
  "metadata": {
    "colab": {
      "provenance": []
    },
    "kernelspec": {
      "name": "python3",
      "display_name": "Python 3"
    },
    "language_info": {
      "name": "python"
    }
  },
  "cells": [
    {
      "cell_type": "markdown",
      "source": [
        "Segmentación Basada en:\n",
        "\n",
        "A. Umbrales\n",
        "1. Binary Thresholding (Umbralización Binaria):\n",
        "Consiste en convertir una imagen en escala de grises en una imagen binaria. Se selecciona un valor de umbral\n",
        "𝑇\n",
        "T, y cada píxel de la imagen se compara con este valor:\n",
        "\n",
        "Si el valor del píxel es mayor que\n",
        "𝑇\n",
        "T, el píxel se establece a 255 (blanco).\n",
        "Si el valor del píxel es menor o igual a\n",
        "𝑇\n",
        "T, se establece a 0 (negro).\n",
        "2. Variaciones de Binary Thresholding:\n",
        "\n",
        "Inverso: Los roles de los valores binarios se invierten. Los píxeles por encima del umbral se establecen a 0 (negro), y los píxeles por debajo del umbral se establecen a 255 (blanco).\n",
        "\n",
        "Truncado: Si el valor del píxel está por encima del umbral, se establece a\n",
        "𝑇\n",
        "T. Si está por debajo, se mantiene sin cambios.\n",
        "A cero (Threshold to Zero): Los píxeles por debajo del umbral se establecen a 0. Los píxeles por encima del umbral se dejan sin cambios.\n",
        "A cero inverso (Threshold to Zero Inverse): Los píxeles por encima del umbral se establecen a 0. Los píxeles por debajo del umbral se dejan sin cambios.\n",
        "3. Método de Otsu:\n",
        "Este método busca un umbral óptimo para separar los píxeles de la imagen en dos clases, maximizando la varianza entre clases. Es útil cuando no se conoce de antemano el valor del umbral.\n",
        "\n",
        "4. Umbral Adaptativo:\n",
        "En lugar de usar un único valor de umbral para toda la imagen, el umbral se calcula para pequeñas regiones de la imagen. Esto es útil en imágenes con iluminación variable.\n",
        "\n",
        "B. Clusters\n",
        "1. K-means:\n",
        "K-means es un algoritmo de clustering que agrupa los píxeles en\n",
        "𝐾\n",
        "K clusters (grupos) basándose en su similitud. Cada píxel es asignado al cluster con el centroide más cercano, y los centroides se recalculan iterativamente hasta que las asignaciones no cambian. Es útil para segmentar una imagen en múltiples regiones de colores o características similares.\n",
        "\n",
        "C. Regiones\n",
        "1. Watershed en CV:\n",
        "El algoritmo de watershed se basa en la idea de la \"inundación\" de una topografía, donde los puntos bajos se inundan primero y los bordes entre las cuencas hidrográficas forman las líneas divisorias de las regiones. En la visión por computadora, se usa para segmentar imágenes en regiones distintas, especialmente en imágenes con objetos superpuestos.\n",
        "\n",
        "3. Operaciones Morfológicas\n",
        "Estas son operaciones que procesan imágenes basadas en formas.\n",
        "\n",
        "1. Erosión:\n",
        "La erosión reduce las regiones blancas de una imagen binaria, eliminando píxeles en los bordes de los objetos. Es útil para eliminar ruido y separar objetos que están cerca.\n",
        "\n",
        "2. Dilatación:\n",
        "La dilatación expande las regiones blancas en una imagen binaria, añadiendo píxeles a los bordes de los objetos. Es útil para cerrar agujeros en los objetos y conectar componentes disjuntos.\n",
        "\n",
        "Cuándo Usar Cada Técnica\n",
        "Umbrales (Binary y Variaciones): Para segmentar objetos de fondo en imágenes de alto contraste. Binary Thresholding es adecuado cuando se tiene un contraste claro entre los objetos de interés y el fondo.\n",
        "Método de Otsu: Cuando no se conoce de antemano el umbral adecuado y se desea una segmentación óptima basada en estadísticas de la imagen.\n",
        "Umbral Adaptativo: Ideal para imágenes con iluminación no uniforme.\n",
        "K-means: Para segmentar imágenes en regiones con diferentes colores o intensidades, útil en aplicaciones donde se desea identificar múltiples clases o agrupaciones en la imagen.\n",
        "Watershed: Para segmentar objetos superpuestos o imágenes con detalles complejos.\n",
        "Erosión y Dilatación: Se usan principalmente para el preprocesamiento de imágenes, como limpiar ruido o mejorar la estructura de los objetos antes de la segmentación final."
      ],
      "metadata": {
        "id": "8yC9TTUtV-Rj"
      }
    },
    {
      "cell_type": "markdown",
      "source": [
        "#**Código de umbrales**"
      ],
      "metadata": {
        "id": "of2pEamYXGnl"
      }
    },
    {
      "cell_type": "code",
      "source": [
        "import cv2\n",
        "import numpy as np\n",
        "\n",
        "# Cargar la imagen en escala de grises\n",
        "img = cv2.imread('ruta_de_tu_imagen.jpg', cv2.IMREAD_GRAYSCALE)\n",
        "\n",
        "# Aplicar umbralización binaria\n",
        "_, binary_thresh = cv2.threshold(img, 127, 255, cv2.THRESH_BINARY)\n",
        "\n",
        "# Aplicar umbralización binaria inversa\n",
        "_, binary_inv_thresh = cv2.threshold(img, 127, 255, cv2.THRESH_BINARY_INV)\n",
        "\n",
        "# Aplicar umbralización truncada\n",
        "_, trunc_thresh = cv2.threshold(img, 127, 255, cv2.THRESH_TRUNC)\n",
        "\n",
        "# Aplicar umbralización a cero\n",
        "_, tozero_thresh = cv2.threshold(img, 127, 255, cv2.THRESH_TOZERO)\n",
        "\n",
        "# Aplicar umbralización a cero inverso\n",
        "_, tozero_inv_thresh = cv2.threshold(img, 127, 255, cv2.THRESH_TOZERO_INV)\n",
        "\n",
        "# Aplicar el método de Otsu\n",
        "_, otsu_thresh = cv2.threshold(img, 0, 255, cv2.THRESH_BINARY + cv2.THRESH_OTSU)\n",
        "\n",
        "# Aplicar umbralización adaptativa (mean)\n",
        "adaptive_mean_thresh = cv2.adaptiveThreshold(img, 255, cv2.ADAPTIVE_THRESH_MEAN_C,\n",
        "                                             cv2.THRESH_BINARY, 11, 2)\n",
        "\n",
        "# Aplicar umbralización adaptativa (gaussian)\n",
        "adaptive_gaussian_thresh = cv2.adaptiveThreshold(img, 255, cv2.ADAPTIVE_THRESH_GAUSSIAN_C,\n",
        "                                                 cv2.THRESH_BINARY, 11, 2)\n",
        "\n",
        "# Mostrar resultados\n",
        "cv2.imshow(\"Original\", img)\n",
        "cv2.imshow(\"Binary Threshold\", binary_thresh)\n",
        "cv2.imshow(\"Binary Inverse Threshold\", binary_inv_thresh)\n",
        "cv2.imshow(\"Trunc Threshold\", trunc_thresh)\n",
        "cv2.imshow(\"To Zero Threshold\", tozero_thresh)\n",
        "cv2.imshow(\"To Zero Inverse Threshold\", tozero_inv_thresh)\n",
        "cv2.imshow(\"Otsu's Threshold\", otsu_thresh)\n",
        "cv2.imshow(\"Adaptive Mean Threshold\", adaptive_mean_thresh)\n",
        "cv2.imshow(\"Adaptive Gaussian Threshold\", adaptive_gaussian_thresh)\n",
        "\n",
        "cv2.waitKey(0)\n",
        "cv2.destroyAllWindows()\n"
      ],
      "metadata": {
        "id": "aaMlfBdNXESG"
      },
      "execution_count": null,
      "outputs": []
    },
    {
      "cell_type": "markdown",
      "source": [
        "Explicación del Código:\n",
        "Binary Thresholding: Establece los píxeles en 255 si están por encima del umbral de 127, y en 0 si están por debajo.\n",
        "Binary Inverse Thresholding: Igual que el anterior pero invertido.\n",
        "Truncated Thresholding: Trunca los valores de los píxeles a 127 si están por encima de este valor.\n",
        "To Zero Thresholding: Mantiene los píxeles por encima del umbral y los que están por debajo los pone a 0.\n",
        "To Zero Inverse Thresholding: Los píxeles por encima del umbral se ponen a 0, mientras que los de abajo se mantienen sin cambios.\n",
        "Otsu’s Thresholding: Encuentra automáticamente un umbral óptimo para segmentar la imagen.\n",
        "Adaptive Thresholding (Mean y Gaussian): Calcula umbrales para pequeñas regiones de la imagen, ideal para casos con iluminación variable.\n",
        "Cómo Usarlo:\n",
        "Cambia 'ruta_de_tu_imagen.jpg' por la ruta de la imagen que quieras procesar.\n",
        "Ejecuta el código en tu entorno de Python, y aparecerán ventanas con cada tipo de umbralización aplicada.\n",
        "Cierra las ventanas para finalizar la ejecución."
      ],
      "metadata": {
        "id": "oaay_ssiXoo4"
      }
    },
    {
      "cell_type": "markdown",
      "source": [
        "##**Cluster con K-means**\n"
      ],
      "metadata": {
        "id": "GDJ0EhuKYJ7V"
      }
    },
    {
      "cell_type": "code",
      "source": [
        "import cv2\n",
        "import numpy as np\n",
        "\n",
        "# Cargar la imagen\n",
        "img = cv2.imread('ruta_de_tu_imagen.jpg')\n",
        "\n",
        "# Convertir la imagen a un array de 2D con cada píxel representado como un punto en un espacio de 3 dimensiones (R, G, B)\n",
        "Z = img.reshape((-1, 3))\n",
        "Z = np.float32(Z)\n",
        "\n",
        "# Definir criterios y aplicar K-means\n",
        "# Criterios: terminar el algoritmo después de 10 iteraciones o cuando la precisión sea menor que 1.0\n",
        "criteria = (cv2.TERM_CRITERIA_EPS + cv2.TERM_CRITERIA_MAX_ITER, 10, 1.0)\n",
        "K = 3  # Número de clusters deseados\n",
        "ret, label, center = cv2.kmeans(Z, K, None, criteria, 10, cv2.KMEANS_RANDOM_CENTERS)\n",
        "\n",
        "# Convertir los centros a valores de 8 bits y etiquetar la imagen según los clusters\n",
        "center = np.uint8(center)\n",
        "res = center[label.flatten()]\n",
        "res2 = res.reshape((img.shape))\n",
        "\n",
        "# Mostrar la imagen segmentada\n",
        "cv2.imshow('Segmented Image', res2)\n",
        "cv2.waitKey(0)\n",
        "cv2.destroyAllWindows()\n"
      ],
      "metadata": {
        "id": "-yaMA473YIQ5"
      },
      "execution_count": null,
      "outputs": []
    },
    {
      "cell_type": "markdown",
      "source": [
        "Reformatear la Imagen:\n",
        "\n",
        "La imagen se convierte en un array 2D donde cada fila es un píxel representado por sus valores RGB (por ejemplo, [R, G, B]).\n",
        "Convertir a float32:\n",
        "\n",
        "Los valores de los píxeles se convierten a float32, ya que K-means en OpenCV requiere este formato de entrada.\n",
        "Definir Criterios y Aplicar K-means:\n",
        "\n",
        "El criterio determina cuándo debe detenerse el algoritmo. Aquí usamos un máximo de 10 iteraciones o una precisión (eps) menor a 1.0.\n",
        "K es el número de clusters que deseamos encontrar en la imagen. Puedes ajustar este número según cuántos segmentos deseas obtener.\n",
        "Convertir y Etiquetar la Imagen:\n",
        "\n",
        "Los centros de los clusters se convierten de nuevo a valores de 8 bits (colores en RGB).\n",
        "Los píxeles de la imagen original se etiquetan con el valor de su cluster correspondiente."
      ],
      "metadata": {
        "id": "9BFDMo2taV7B"
      }
    },
    {
      "cell_type": "markdown",
      "source": [
        "##**Regiones: Segmentación por Regiones con el Algoritmo Watershed**\n",
        "\n",
        "El algoritmo Watershed es ideal para segmentar objetos que están conectados o que tienen bordes difusos. A continuación te muestro cómo puedes implementarlo en Python:\n"
      ],
      "metadata": {
        "id": "IrHqcMfPYS74"
      }
    },
    {
      "cell_type": "code",
      "source": [
        "import cv2\n",
        "import numpy as np\n",
        "\n",
        "# Cargar la imagen\n",
        "img = cv2.imread('ruta_de_tu_imagen.jpg')\n",
        "gray = cv2.cvtColor(img, cv2.COLOR_BGR2GRAY)\n",
        "\n",
        "# Aplicar un filtro de desenfoque para reducir el ruido\n",
        "blurred = cv2.GaussianBlur(gray, (5, 5), 0)\n",
        "\n",
        "# Aplicar un umbral binario\n",
        "_, binary = cv2.threshold(blurred, 0, 255, cv2.THRESH_BINARY_INV + cv2.THRESH_OTSU)\n",
        "\n",
        "# Eliminar pequeños agujeros o ruidos usando morfología (apertura)\n",
        "kernel = np.ones((3, 3), np.uint8)\n",
        "opening = cv2.morphologyEx(binary, cv2.MORPH_OPEN, kernel, iterations=2)\n",
        "\n",
        "# Determinar el área de fondo usando dilatación\n",
        "sure_bg = cv2.dilate(opening, kernel, iterations=3)\n",
        "\n",
        "# Determinar el área de primer plano utilizando la distancia euclidiana\n",
        "dist_transform = cv2.distanceTransform(opening, cv2.DIST_L2, 5)\n",
        "_, sure_fg = cv2.threshold(dist_transform, 0.7 * dist_transform.max(), 255, 0)\n",
        "\n",
        "# Encontrar las regiones desconocidas (bordes entre el fondo y el primer plano)\n",
        "sure_fg = np.uint8(sure_fg)\n",
        "unknown = cv2.subtract(sure_bg, sure_fg)\n",
        "\n",
        "# Marcar los objetos conectados\n",
        "_, markers = cv2.connectedComponents(sure_fg)\n",
        "\n",
        "# Aumentar los valores de los marcadores para que no sean cero (Watershed requiere que los marcadores sean positivos)\n",
        "markers = markers + 1\n",
        "\n",
        "# Marcar la región desconocida con ceros\n",
        "markers[unknown == 255] = 0\n",
        "\n",
        "# Aplicar el algoritmo Watershed\n",
        "markers = cv2.watershed(img, markers)\n",
        "img[markers == -1] = [0, 0, 255]  # Bordes marcados en rojo\n",
        "\n",
        "# Mostrar el resultado final\n",
        "cv2.imshow('Original', img)\n",
        "cv2.imshow('Segmented', img)\n",
        "cv2.waitKey(0)\n",
        "cv2.destroyAllWindows()\n"
      ],
      "metadata": {
        "id": "xBk-_B5fYdDS"
      },
      "execution_count": null,
      "outputs": []
    },
    {
      "cell_type": "markdown",
      "source": [
        "El proceso completo que te mostré tiene varios pasos previos a la aplicación del algoritmo Watershed porque es necesario preparar la imagen para que Watershed funcione correctamente. Vamos a desglosar por qué cada paso es importante:\n",
        "\n",
        "¿Por Qué Todo el Proceso?\n",
        "Reducción de Ruido:\n",
        "\n",
        "Desenfoque (GaussianBlur):\n",
        "Antes de aplicar Watershed, es importante reducir el ruido en la imagen. Un desenfoque ayuda a suavizar la imagen y a eliminar pequeñas variaciones que podrían interferir con la segmentación.\n",
        "Umbralización Binaria:\n",
        "\n",
        "Separación de Fondo y Primer Plano:\n",
        "Watershed necesita saber qué es fondo y qué es primer plano. La umbralización y las operaciones morfológicas ayudan a definir estas regiones. Sin esta preparación, Watershed podría segmentar erróneamente áreas que no deseas.\n",
        "Morfología:\n",
        "\n",
        "Limpieza de la Imagen:\n",
        "Las operaciones morfológicas como la apertura y la dilatación eliminan pequeños elementos no deseados (ruido) y aseguran que las regiones de interés estén bien definidas.\n",
        "Marcado de Componentes Conectados:\n",
        "\n",
        "Inicialización de Marcadores:\n",
        "Los marcadores son fundamentales para que Watershed funcione correctamente. Cada marcador representa una región que el algoritmo \"inundará\". Si los marcadores no están bien definidos, el resultado de Watershed será incorrecto o no deseado.\n",
        "¿Por Qué No Sólo Aplicar Watershed Directamente?\n",
        "Si aplicas Watershed directamente sin preparar la imagen:\n",
        "\n",
        "Falta de Marcadores Adecuados: Watershed no sabrá por dónde empezar la segmentación si no se han definido marcadores claros de fondo y primer plano.\n",
        "Segmentación Incorrecta: Sin las etapas previas, es probable que Watershed detecte demasiadas regiones o no detecte las regiones correctamente.\n",
        "Ruido en la Segmentación: El ruido en la imagen podría causar que Watershed cree segmentos no deseados."
      ],
      "metadata": {
        "id": "Di-Su686ZGtP"
      }
    },
    {
      "cell_type": "markdown",
      "source": [
        "##**Operaciones morfológicas**\n",
        "\n",
        "Las operaciones morfológicas son fundamentales en el procesamiento de imágenes para manipular la estructura de las formas en una imagen binaria (blanco y negro). Las dos operaciones básicas que mencionaste son Erosión y Dilatación.\n",
        "\n",
        "1. Erosión\n",
        "La erosión reduce el tamaño de las regiones blancas (o de primer plano). Se \"erosiona\" el borde de las regiones blancas, lo que resulta en una reducción de estas áreas. Esta operación es útil para eliminar pequeñas manchas de ruido.\n",
        "\n",
        "2. Dilatación\n",
        "La dilatación, por otro lado, expande las regiones blancas. Añade píxeles al borde de las regiones blancas, lo que puede ayudar a cerrar pequeños agujeros o conectar elementos disjuntos en la imagen."
      ],
      "metadata": {
        "id": "AFjSxfUoZeXq"
      }
    },
    {
      "cell_type": "code",
      "source": [
        "import cv2\n",
        "import numpy as np\n",
        "\n",
        "# Cargar la imagen en escala de grises\n",
        "img = cv2.imread('ruta_de_tu_imagen.jpg', cv2.IMREAD_GRAYSCALE)\n",
        "\n",
        "# Aplicar un umbral binario para crear una imagen binaria\n",
        "_, binary_img = cv2.threshold(img, 127, 255, cv2.THRESH_BINARY)\n",
        "\n",
        "# Definir un kernel (estructura de elemento) de tamaño 5x5\n",
        "kernel = np.ones((5, 5), np.uint8)\n",
        "\n",
        "# Aplicar erosión\n",
        "erosion = cv2.erode(binary_img, kernel, iterations=1)\n",
        "\n",
        "# Aplicar dilatación\n",
        "dilation = cv2.dilate(binary_img, kernel, iterations=1)\n",
        "\n",
        "# Mostrar resultados\n",
        "cv2.imshow(\"Imagen Original\", binary_img)\n",
        "cv2.imshow(\"Erosión\", erosion)\n",
        "cv2.imshow(\"Dilatación\", dilation)\n",
        "\n",
        "cv2.waitKey(0)\n",
        "cv2.destroyAllWindows()\n"
      ],
      "metadata": {
        "id": "eUmipE7DZiWz"
      },
      "execution_count": null,
      "outputs": []
    },
    {
      "cell_type": "markdown",
      "source": [
        "Definir el Kernel:\n",
        "Un kernel es una pequeña matriz que define la vecindad alrededor de cada píxel en la imagen. Aquí, usamos un kernel de 5x5 con todos sus elementos iguales a 1. El tamaño del kernel afecta la intensidad de la erosión o dilatación.\n",
        "\n",
        "Erosión:\n",
        "Se aplica la erosión usando la función cv2.erode(). Esto reduce las áreas blancas en la imagen.\n",
        "\n",
        "Dilatación:\n",
        "Se aplica la dilatación usando la función cv2.dilate(). Esto expande las áreas blancas en la imagen.\n",
        "\n",
        "¿Cuándo Usar Erosión y Dilatación?\n",
        "Erosión: Útil para eliminar ruido, separar objetos conectados, o reducir el tamaño de objetos en la imagen.\n",
        "Dilatación: Útil para cerrar pequeños agujeros en objetos, conectar objetos disjuntos, o aumentar el tamaño de los objetos.\n",
        "\n",
        "Estas operaciones son muy poderosas cuando se combinan. Por ejemplo, puedes aplicar primero la erosión para eliminar ruido y luego la dilatación para restaurar la forma original de los objetos más grandes. ¡Prueba este código y experimenta con diferentes tamaños de kernel y número de iteraciones para ver cómo cambian los resultados!"
      ],
      "metadata": {
        "id": "tWkVVm3wZuB7"
      }
    }
  ]
}