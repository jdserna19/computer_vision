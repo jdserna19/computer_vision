{
 "cells": [
  {
   "cell_type": "code",
   "execution_count": 6,
   "metadata": {},
   "outputs": [],
   "source": [
    "import numpy as np\n",
    "import cv2\n",
    "import matplotlib.pyplot as plt"
   ]
  },
  {
   "cell_type": "code",
   "execution_count": 7,
   "metadata": {},
   "outputs": [],
   "source": [
    "# Función para dibujar un triángulo\n",
    "def draw_triangle(im, triangle, color=(0, 255, 0)):\n",
    "    # Normalizar coordenadas homogéneas\n",
    "    triangle = np.array([v[:-1] / v[-1] for v in triangle], np.uint16)\n",
    "    cv2.drawContours(im, [triangle.astype(int)], 0, color, -1)\n",
    "    for v in triangle:\n",
    "        cv2.circle(im, tuple(v), 2, (255, 0, 255), -1)"
   ]
  },
  {
   "cell_type": "code",
   "execution_count": 8,
   "metadata": {},
   "outputs": [],
   "source": [
    "# Función para escalar un triángulo\n",
    "def scale(triangle, sx, sy):\n",
    "    S = np.array([[sx, 0, 0], [0, sy, 0], [0, 0, 1]])\n",
    "    return np.dot(triangle, S.T)"
   ]
  },
  {
   "cell_type": "code",
   "execution_count": 9,
   "metadata": {},
   "outputs": [],
   "source": [
    "# Función para rotar un triángulo\n",
    "def rotate(triangle, angle):\n",
    "    angle_rad = np.radians(angle)\n",
    "    R = np.array([[np.cos(angle_rad), -np.sin(angle_rad), 0], [np.sin(angle_rad), np.cos(angle_rad), 0], [0, 0, 1]])\n",
    "    return np.dot(triangle, R.T)"
   ]
  },
  {
   "cell_type": "code",
   "execution_count": 10,
   "metadata": {},
   "outputs": [],
   "source": [
    "# Función para trasladar un triángulo\n",
    "def translate(triangle, dx, dy):\n",
    "    T = np.array([[1, 0, dx], [0, 1, dy], [0, 0, 1]])\n",
    "    return np.dot(triangle, T.T)"
   ]
  },
  {
   "cell_type": "code",
   "execution_count": 11,
   "metadata": {},
   "outputs": [],
   "source": [
    "# Función para realizar una transformación compuesta\n",
    "def compuesta(triangle, dx, dy, sx, sy, angle):\n",
    "    # Trasladar el triángulo al origen\n",
    "    triangle = translate(triangle, -triangle[:, 0].mean(), -triangle[:, 1].mean())\n",
    "    # Escalar el triángulo\n",
    "    triangle = scale(triangle, sx, sy)\n",
    "    # Rotar el triángulo\n",
    "    triangle = rotate(triangle, angle)\n",
    "    # Trasladar el triángulo de vuelta\n",
    "    triangle = translate(triangle, triangle[:, 0].mean() + dx, triangle[:, 1].mean() + dy)\n",
    "    return triangle"
   ]
  },
  {
   "cell_type": "code",
   "execution_count": 12,
   "metadata": {},
   "outputs": [],
   "source": [
    "# Función para mostrar la imagen \n",
    "def show_im(im):\n",
    "    # Convertir de BGR a RGB para que se vea correctamente en matplotlib\n",
    "    im_rgb = cv2.cvtColor(im, cv2.COLOR_BGR2RGB)\n",
    "    plt.imshow(im_rgb)\n",
    "    plt.axis('off')  # Ocultar los ejes\n",
    "    plt.show()"
   ]
  },
  {
   "cell_type": "code",
   "execution_count": 13,
   "metadata": {},
   "outputs": [
    {
     "data": {
      "image/png": "[encoded data removed]",
      "text/plain": [
       "<Figure size 640x480 with 1 Axes>"
      ]
     },
     "metadata": {},
     "output_type": "display_data"
    }
   ],
   "source": [
    "# Dimensiones de la imagen\n",
    "w = 500\n",
    "h = 500\n",
    "im = np.zeros((h, w, 3), np.uint8)\n",
    "\n",
    "# Parámetros de las transformaciones\n",
    "angle = 30\n",
    "s = 3\n",
    "t = 250\n",
    "\n",
    "# Sistema coordenado de imágenes\n",
    "triangle1 = np.array([[10, 10, 1], [70, 10, 1], [40, 60, 1]])\n",
    "\n",
    "# Aplicar la transformación compuesta\n",
    "triangle2 = compuesta(triangle1, t, t, s, 1, angle)\n",
    "\n",
    "# Dibujar los triángulos\n",
    "draw_triangle(im, triangle1)\n",
    "draw_triangle(im, triangle2, color=(0, 100, 255))\n",
    "\n",
    "# Mostrar la imagen \n",
    "show_im(im)"
   ]
  }
 ],
 "metadata": {
  "kernelspec": {
   "display_name": "introduccion-sk_EcFPd",
   "language": "python",
   "name": "python3"
  },
  "language_info": {
   "codemirror_mode": {
    "name": "ipython",
    "version": 3
   },
   "file_extension": ".py",
   "mimetype": "text/x-python",
   "name": "python",
   "nbconvert_exporter": "python",
   "pygments_lexer": "ipython3",
   "version": "3.11.5"
  }
 },
 "nbformat": 4,
 "nbformat_minor": 2
}
